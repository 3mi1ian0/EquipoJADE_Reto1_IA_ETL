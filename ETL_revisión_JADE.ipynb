{
 "cells": [
  {
   "cell_type": "code",
   "execution_count": 2,
   "metadata": {
    "collapsed": false
   },
   "outputs": [
   ],
   "source": [
    "#IMPORTA LAS LIBRERIAS A UTILIZAR\n",
    "import matplotlib.pyplot as plt\n",
    "import seaborn as sns\n",
    "import pandas as pd\n",
    "import numpy as np\n",
    "from sklearn.preprocessing import OneHotEncoder"
   ]
  },
  {
   "cell_type": "code",
   "execution_count": 0,
   "metadata": {
    "collapsed": false
   },
   "outputs": [
   ],
   "source": [
    "#CARGA DOCUMENTOS DE ARCHIVOS .CSV\n",
    "df_holidays = pd.read_csv(\"holidays_events.csv\")\n",
    "df_oil = pd.read_csv(\"oil.csv\")\n",
    "df_stores = pd.read_csv(\"stores.csv\")\n",
    "df_transactions = pd.read_csv(\"transactions.csv\")\n",
    "df_train = pd.read_csv(\"train.csv\")\n",
    "df_test = pd.read_csv(\"test.csv\")"
   ]
  },
  {
   "cell_type": "code",
   "execution_count": 0,
   "metadata": {
    "collapsed": false
   },
   "outputs": [
   ],
   "source": [
    "# TRANSFORM\n",
    "\n",
    "#OBSERVAR QUE LA COLUMNA FECHA NO ESTA EN FORMATO FECHA\n",
    "df_holidays.dtypes\n",
    "df_oil.dtypes\n",
    "df_stores.dtypes\n",
    "df_oil.dtypes\n",
    "df_transactions.dtypes\n",
    "df_train.dtypes\n",
    "df_test.dtypes"
   ]
  },
  {
   "cell_type": "code",
   "execution_count": 0,
   "metadata": {
    "collapsed": false
   },
   "outputs": [
   ],
   "source": [
    "#CONVERTIR EL STRING EN FORMATO FECHA PARA CADA ARCHIVO\n",
    "\n",
    "df_holidays['date'] = pd.to_datetime(df_holidays['date'])\n",
    "df_oil['date'] = pd.to_datetime(df_oil['date'])\n",
    "#df_storeS no tiene variable\n",
    "df_transactions['date'] = pd.to_datetime(df_transactions['date'])\n",
    "df_train['date'] = pd.to_datetime(df_train['date'])\n",
    "df_test['date'] = pd.to_datetime(df_test['date'])"
   ]
  },
  {
   "cell_type": "code",
   "execution_count": 0,
   "metadata": {
    "collapsed": false
   },
   "outputs": [
   ],
   "source": [
    "### OBSERVAR LOS CAMBIOS\n",
    "\n",
    "df_holidays.info()\n",
    "print(\"\\n\")\n",
    "df_oil.info()\n",
    "print(\"\\n\")\n",
    "#df_stores no tiene variable fecha\n",
    "df_transactions.info()\n",
    "print(\"\\n\")\n",
    "df_train.info()\n",
    "print(\"\\n\")\n",
    "df_test.info()"
   ]
  },
  {
   "cell_type": "code",
   "execution_count": 0,
   "metadata": {
    "collapsed": false,
    "scrolled": true
   },
   "outputs": [
   ],
   "source": [
    "#DROP DE INFORMACION INNECESARIA\n",
    "df_holidays.drop([\"locale\", \"locale_name\", \"description\", \"transferred\"], axis = 1, inplace = True)\n",
    "df_holidays.info()"
   ]
  },
  {
   "cell_type": "code",
   "execution_count": 0,
   "metadata": {
    "collapsed": false,
    "scrolled": true
   },
   "outputs": [
   ],
   "source": [
    "#DROP DE INFORMACION INNECESARIA\n",
    "df_stores.drop([\"type\", \"cluster\"], axis = 1, inplace = True)\n",
    "df_stores.info()"
   ]
  },
  {
   "cell_type": "code",
   "execution_count": 0,
   "metadata": {
    "collapsed": false,
    "scrolled": true
   },
   "outputs": [
   ],
   "source": [
    "#DROP DE INFORMACION INNECESARIA\n",
    "df_test.drop([\"id\", \"family\"], axis = 1, inplace = True)\n",
    "#DROP DE INFORMACION INNECESARIA\n",
    "df_train.drop([\"id\", \"family\"], axis = 1, inplace = True)\n",
    "df_train.head()\n"
   ]
  },
  {
   "cell_type": "code",
   "execution_count": 0,
   "metadata": {
    "collapsed": false
   },
   "outputs": [
   ],
   "source": [
    "# IMPRIME DATOS DE DOCUMENTO HOLIDAYS\n",
    "df_holidays = pd.read_csv('holidays_events.csv')\n",
    "df_holidays.head()"
   ]
  },
  {
   "cell_type": "code",
   "execution_count": 0,
   "metadata": {
    "collapsed": false
   },
   "outputs": [
   ],
   "source": [
    "unique_local = df_holidays['locale_name'].unique()\n",
    "local_count = df_holidays['locale_name'].value_counts()\n",
    "\n",
    "plt.bar(unique_local, local_count)\n",
    "plt.xlabel('Localities')\n",
    "plt.ylabel('N° of Holidays')\n",
    "plt.title('Holidays per Locality')\n",
    "plt.xticks(rotation='vertical')  # Rotate x-axis labels vertically\n",
    "plt.tight_layout()\n",
    "plt.show()"
   ]
  },
  {
   "cell_type": "code",
   "execution_count": 0,
   "metadata": {
    "collapsed": false
   },
   "outputs": [
   ],
   "source": [
    "#PLOT DONDE SE MUESTA GRAFICADA LA TOTALIDA DE LA INFORMACION EN BUSQUEDA DE PATRONES\n",
    "\n",
    "\n",
    "df_transactions = df_transactions[['date', 'transactions']]\n",
    "df_types = df_holidays[['date', 'type']]\n",
    "\n",
    "# CONVERTIR LAS COLUMNAS 'FECHA' A OBJETOS DATETIME\n",
    "df_transactions['date'] = pd.to_datetime(df_transactions['date'], format='%Y-%m-%d')\n",
    "df_types['date'] = pd.to_datetime(df_types['date'], format='%Y-%m-%d')\n",
    "\n",
    "#COMBINAR DATAFRAMES\n",
    "merged_df = df_transactions.merge(df_types, on='date', how='left')\n",
    "\n",
    "# CALCULA LA MEDIA DE TRANSACTIONS\n",
    "mean_transactions = merged_df['transactions'].mean()\n",
    "\n",
    "# USA SEABORN PARA GRAFICAR LOS VALORES PREVIOS\n",
    "plt.figure(figsize=(10, 6))\n",
    "sns.lineplot(data=merged_df, x='date', y='transactions', hue='type')\n",
    "plt.axhline(mean_transactions, color='red', linestyle='dashed', label='Mean Transactions')\n",
    "plt.title('Transactions over Time')\n",
    "plt.xlabel('Date')\n",
    "plt.ylabel('Transactions')\n",
    "plt.legend(title='Type')\n",
    "'''\n",
    "# Limit x-axis to a specific time frame\n",
    "start_date = '2017-01-01'\n",
    "end_date = '2018-01-01'\n",
    "plt.xlim(pd.to_datetime(start_date), pd.to_datetime(end_date))\n",
    "'''\n",
    "plt.show()"
   ]
  },
  {
   "cell_type": "code",
   "execution_count": 0,
   "metadata": {
    "collapsed": false
   },
   "outputs": [
   ],
   "source": [
    "# GRAFICA DE DATOS DEL AÑO 2016 a 2017 DONDE SE COMPARA EL AÑO DEL TERREMOTO Y EL POSTERIOR\n",
    "plt.figure(figsize=(10, 6))\n",
    "sns.lineplot(data=merged_df, x='date', y='transactions', hue='type')\n",
    "plt.axhline(mean_transactions, color='red', linestyle='dashed', label='Mean Transactions')\n",
    "plt.title('Transactions over Time')\n",
    "plt.xlabel('Date')\n",
    "plt.ylabel('Transactions')\n",
    "plt.legend(title='Type')\n",
    "\n",
    "# LIMITA LOS EJES PARA ENFATIZAR LOS AÑOS 2016 y 2017\n",
    "start_date = '2016-01-01'\n",
    "end_date = '2017-01-01'\n",
    "plt.xlim(pd.to_datetime(start_date), pd.to_datetime(end_date))"
   ]
  },
  {
   "cell_type": "code",
   "execution_count": 0,
   "metadata": {
    "collapsed": false
   },
   "outputs": [
   ],
   "source": [
    "# GRAFICA DE DATOS POSTERIORES A EVENTOS DE GRAN IMPACTO TERREMOTO(2016)\n",
    "plt.figure(figsize=(10, 6))\n",
    "sns.lineplot(data=merged_df, x='date', y='transactions', hue='type')\n",
    "\n",
    "plt.axhline(mean_transactions, color='red', linestyle='dashed', label='Mean Transactions')\n",
    "plt.title('Transactions over Time')\n",
    "plt.xlabel('Date')\n",
    "plt.ylabel('Transactions')\n",
    "plt.legend(title='Type')\n",
    "\n",
    "# LIMITA LOS EJES PARA MOSTRAR SOLO DESDE 2017 y 2018\n",
    "start_date = '2017-01-01'\n",
    "end_date = '2018-01-01'\n",
    "plt.xlim(pd.to_datetime(start_date), pd.to_datetime(end_date))\n",
    "plt.show()"
   ]
  },
  {
   "cell_type": "code",
   "execution_count": 0,
   "metadata": {
    "collapsed": false
   },
   "outputs": [
   ],
   "source": [
    "df_transactions = df_transactions[['date', 'transactions']]\n",
    "df_types = df_oil[['date', 'dcoilwtico']]\n",
    "\n",
    "# Convert 'date' columns to datetime objects\n",
    "df_transactions['date'] = pd.to_datetime(df_transactions['date'], format='%Y-%m-%d')\n",
    "df_types['date'] = pd.to_datetime(df_types['date'], format='%Y-%m-%d')\n",
    "\n",
    "# Plot using seaborn\n",
    "plt.plot(df_transactions['date'], df_transactions['transactions'], label='Transactions per day')\n",
    "plt.plot(df_types['date'], df_types['dcoilwtico'], label='Oil price')\n",
    "plt.xlabel('Date')\n",
    "plt.ylabel('')\n",
    "plt.title('Oil price and Trasactions')\n",
    "plt.legend()\n",
    "plt.show()"
   ]
  },
  {
   "cell_type": "code",
   "execution_count": 0,
   "metadata": {
    "collapsed": false
   },
   "outputs": [
   ],
   "source": [
    "# STORES DATAFRAME\n",
    "\n",
    "df_stores = pd.read_csv(\"stores.csv\")\n",
    "df_stores.head()\n",
    "df_stores.info()\n",
    "#df_stores.isnull()\n",
    "#df_stores.count()\n",
    "new_df_stores = df_stores.drop('type', axis = 'columns')"
   ]
  },
  {
   "cell_type": "code",
   "execution_count": 0,
   "metadata": {
    "collapsed": false
   },
   "outputs": [
   ],
   "source": [
   ]
  }
 ],
 "metadata": {
  "kernelspec": {
   "argv": [
    "/usr/bin/python3",
    "-m",
    "ipykernel",
    "--HistoryManager.enabled=False",
    "--matplotlib=inline",
    "-c",
    "%config InlineBackend.figure_formats = set(['retina'])\nimport matplotlib; matplotlib.rcParams['figure.figsize'] = (12, 7)",
    "-f",
    "{connection_file}"
   ],
   "display_name": "Python 3 (system-wide)",
   "env": {
   },
   "language": "python",
   "metadata": {
    "cocalc": {
     "description": "Python 3 programming language",
     "priority": 100,
     "url": "https://www.python.org/"
    }
   },
   "name": "python3",
   "resource_dir": "/ext/jupyter/kernels/python3"
  },
  "language_info": {
   "codemirror_mode": {
    "name": "ipython",
    "version": 3
   },
   "file_extension": ".py",
   "mimetype": "text/x-python",
   "name": "python",
   "nbconvert_exporter": "python",
   "pygments_lexer": "ipython3",
   "version": "3.10.12"
  }
 },
 "nbformat": 4,
 "nbformat_minor": 4
}